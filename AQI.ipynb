{
  "nbformat": 4,
  "nbformat_minor": 0,
  "metadata": {
    "colab": {
      "name": "AQI.ipynb",
      "provenance": [],
      "authorship_tag": "ABX9TyOTIJVY+QNZD/YtGAiKbisz",
      "include_colab_link": true
    },
    "kernelspec": {
      "name": "python3",
      "display_name": "Python 3"
    },
    "language_info": {
      "name": "python"
    }
  },
  "cells": [
    {
      "cell_type": "markdown",
      "metadata": {
        "id": "view-in-github",
        "colab_type": "text"
      },
      "source": [
        "<a href=\"https://colab.research.google.com/github/Sohima/Delhi-Pollution-Predition/blob/main/AQI.ipynb\" target=\"_parent\"><img src=\"https://colab.research.google.com/assets/colab-badge.svg\" alt=\"Open In Colab\"/></a>"
      ]
    },
    {
      "cell_type": "code",
      "metadata": {
        "id": "y5OWkwC2GCmF"
      },
      "source": [
        "import os\n",
        "import time\n",
        "import requests\n",
        "import sys"
      ],
      "execution_count": 1,
      "outputs": []
    },
    {
      "cell_type": "code",
      "metadata": {
        "colab": {
          "base_uri": "https://localhost:8080/"
        },
        "id": "BnBZguNsqrsy",
        "outputId": "b6d20297-0661-42c5-ef86-ab87a44b117a"
      },
      "source": [
        "def retrieve_html():\n",
        "  for year in range(2016,2021):\n",
        "    for month in range(1,13):\n",
        "      if(month<10):\n",
        "        url='http://en.tutiempo.net/climate/0{}-{}/ws-421810.html'.format(month,year)\n",
        "      else:\n",
        "        url='http://en.tutiempo.net/climate/{}-{}/ws-421810.html'.format(month,year)\n",
        "      texts=requests.get(url)\n",
        "      text_utf=texts.text.encode('utf=8')\n",
        "            \n",
        "      if not os.path.exists(\"data/Html_Data/{}\".format(year)):\n",
        "        os.makedirs(\"data/Html_Data/{}\".format(year))\n",
        "      with open(\"data/Html_Data/{}/{}.html\".format(year,month),\"wb\") as output:\n",
        "        output.write(text_utf)\n",
        "            \n",
        "      sys.stdout.flush()\n",
        "        \n",
        "if __name__==\"__main__\":\n",
        "    start_time=time.time()\n",
        "    retrieve_html()\n",
        "    stop_time=time.time()\n",
        "    print(\"Time taken {}\".format(stop_time-start_time))   \n"
      ],
      "execution_count": 2,
      "outputs": [
        {
          "output_type": "stream",
          "name": "stdout",
          "text": [
            "Time taken 49.10395264625549\n"
          ]
        }
      ]
    },
    {
      "cell_type": "markdown",
      "metadata": {
        "id": "Eyb_RWhTJ8Nr"
      },
      "source": [
        "#Extract AQI csv File"
      ]
    },
    {
      "cell_type": "code",
      "metadata": {
        "id": "fKgxZ42nz4OC"
      },
      "source": [
        "import pandas as pd\n",
        "import matplotlib.pyplot as plt"
      ],
      "execution_count": 3,
      "outputs": []
    },
    {
      "cell_type": "code",
      "metadata": {
        "colab": {
          "base_uri": "https://localhost:8080/",
          "height": 279
        },
        "id": "dZOYDbsdz9DM",
        "outputId": "a93a0f39-3e3a-432a-bc6e-b79756af436b"
      },
      "source": [
        "\n",
        "def avg_data_2016():\n",
        "    temp_i=0\n",
        "    average=[]\n",
        "    for rows in pd.read_csv('data/AQI/aqi2016.csv',chunksize=24):\n",
        "        add_var=0\n",
        "        avg=0.0\n",
        "        data=[]\n",
        "        df=pd.DataFrame(data=rows)\n",
        "        for index,row in df.iterrows():\n",
        "            data.append(row['PM2.5'])\n",
        "        for i in data:\n",
        "            if type(i) is float or type(i) is int:\n",
        "                add_var=add_var+i\n",
        "            elif type(i) is str:\n",
        "                if i!='NoData' and i!='PwrFail' and i!='---' and i!='InVld':\n",
        "                    temp=float(i)\n",
        "                    add_var=add_var+temp\n",
        "        avg=add_var/24\n",
        "        temp_i=temp_i+1\n",
        "        \n",
        "        average.append(avg)\n",
        "    return average\n",
        "    \n",
        "def avg_data_2017():\n",
        "    temp_i=0\n",
        "    average=[]\n",
        "    for rows in pd.read_csv('data/AQI/aqi2017.csv',chunksize=24):\n",
        "        add_var=0\n",
        "        avg=0.0\n",
        "        data=[]\n",
        "        df=pd.DataFrame(data=rows)\n",
        "        for index,row in df.iterrows():\n",
        "            data.append(row['PM2.5'])\n",
        "        for i in data:\n",
        "            if type(i) is float or type(i) is int:\n",
        "                add_var=add_var+i\n",
        "            elif type(i) is str:\n",
        "                if i!='NoData' and i!='PwrFail' and i!='---' and i!='InVld':\n",
        "                    temp=float(i)\n",
        "                    add_var=add_var+temp\n",
        "        avg=add_var/24\n",
        "        temp_i=temp_i+1\n",
        "        \n",
        "        average.append(avg)\n",
        "    return average\n",
        "    \n",
        "def avg_data_2018():\n",
        "    temp_i=0\n",
        "    average=[]\n",
        "    for rows in pd.read_csv('data/AQI/aqi2018.csv',chunksize=24):\n",
        "        add_var=0\n",
        "        avg=0.0\n",
        "        data=[]\n",
        "        df=pd.DataFrame(data=rows)\n",
        "        for index,row in df.iterrows():\n",
        "            data.append(row['PM2.5'])\n",
        "        for i in data:\n",
        "            if type(i) is float or type(i) is int:\n",
        "                add_var=add_var+i\n",
        "            elif type(i) is str:\n",
        "                if i!='NoData' and i!='PwrFail' and i!='---' and i!='InVld':\n",
        "                    temp=float(i)\n",
        "                    add_var=add_var+temp\n",
        "        avg=add_var/24\n",
        "        temp_i=temp_i+1\n",
        "        \n",
        "        average.append(avg)\n",
        "    return average\n",
        "\n",
        "    \n",
        "def avg_data_2019():\n",
        "    temp_i=0\n",
        "    average=[]\n",
        "    for rows in pd.read_csv('data/AQI/aqi2019.csv',chunksize=24):\n",
        "        add_var=0\n",
        "        avg=0.0\n",
        "        data=[]\n",
        "        df=pd.DataFrame(data=rows)\n",
        "        for index,row in df.iterrows():\n",
        "            data.append(row['PM2.5'])\n",
        "        for i in data:\n",
        "            if type(i) is float or type(i) is int:\n",
        "                add_var=add_var+i\n",
        "            elif type(i) is str:\n",
        "                if i!='NoData' and i!='PwrFail' and i!='---' and i!='InVld':\n",
        "                    temp=float(i)\n",
        "                    add_var=add_var+temp\n",
        "        avg=add_var/24\n",
        "        temp_i=temp_i+1\n",
        "        \n",
        "        average.append(avg)\n",
        "    return average\n",
        "    \n",
        "def avg_data_2020():\n",
        "    temp_i=0\n",
        "    average=[]\n",
        "    for rows in pd.read_csv('data/AQI/aqi2020.csv',chunksize=24):\n",
        "        add_var=0\n",
        "        avg=0.0\n",
        "        data=[]\n",
        "        df=pd.DataFrame(data=rows)\n",
        "        for index,row in df.iterrows():\n",
        "            data.append(row['PM2.5'])\n",
        "        for i in data:\n",
        "            if type(i) is float or type(i) is int:\n",
        "                add_var=add_var+i\n",
        "            elif type(i) is str:\n",
        "                if i!='NoData' and i!='PwrFail' and i!='---' and i!='InVld':\n",
        "                    temp=float(i)\n",
        "                    add_var=add_var+temp\n",
        "        avg=add_var/24\n",
        "        temp_i=temp_i+1\n",
        "        \n",
        "        average.append(avg)\n",
        "    return average\n",
        "        \n",
        "\n",
        "if __name__==\"__main__\":\n",
        "    lst2016=avg_data_2016()\n",
        "    lst2017=avg_data_2017()\n",
        "    lst2018=avg_data_2018()\n",
        "    lst2019=avg_data_2019()\n",
        "    lst2020=avg_data_2020()\n",
        "    plt.plot(range(0,365),lst2016,label=\"2016 data\")\n",
        "    plt.plot(range(0,365),lst2017,label=\"2017 data\")\n",
        "    plt.plot(range(0,364),lst2018,label=\"2018 data\")\n",
        "    plt.plot(range(0,365),lst2019,label=\"2019 data\")\n",
        "    plt.plot(range(0,365),lst2019,label=\"2020 data\")\n",
        "    plt.xlabel('Day')\n",
        "    plt.ylabel('PM 2.5')\n",
        "    plt.legend(loc='upper right')\n",
        "    plt.show()"
      ],
      "execution_count": 5,
      "outputs": [
        {
          "output_type": "display_data",
          "data": {
            "image/png": "[encoded data removed]",
            "text/plain": [
              "<Figure size 432x288 with 1 Axes>"
            ]
          },
          "metadata": {
            "needs_background": "light"
          }
        }
      ]
    },
    {
      "cell_type": "markdown",
      "metadata": {
        "id": "QfH9oh9bKMif"
      },
      "source": [
        "#Extract real time data"
      ]
    },
    {
      "cell_type": "code",
      "metadata": {
        "id": "dXDx6rXWyllg"
      },
      "source": [
        "import requests\n",
        "import sys\n",
        "import pandas as pd\n",
        "from bs4 import BeautifulSoup\n",
        "import os\n",
        "import csv\n"
      ],
      "execution_count": 6,
      "outputs": []
    },
    {
      "cell_type": "code",
      "metadata": {
        "id": "5ICcTi1Y_78S"
      },
      "source": [
        "def met_data(month, year):\n",
        "    \n",
        "    file_html = open('data/Html_Data/{}/{}.html'.format(year,month), 'rb')\n",
        "    plain_text = file_html.read()\n",
        "\n",
        "    tempD = []\n",
        "    finalD = []\n",
        "\n",
        "    soup = BeautifulSoup(plain_text, \"lxml\")\n",
        "    for table in soup.findAll('table', {'class': 'medias mensuales numspan'}):\n",
        "        for tbody in table:\n",
        "            for tr in tbody:\n",
        "                a = tr.get_text()\n",
        "                tempD.append(a)\n",
        "\n",
        "    rows = len(tempD) / 15\n",
        "\n",
        "    for times in range(round(rows)):\n",
        "        newtempD = []\n",
        "        for i in range(15):\n",
        "            newtempD.append(tempD[0])\n",
        "            tempD.pop(0)\n",
        "        finalD.append(newtempD)\n",
        "\n",
        "    length = len(finalD)\n",
        "\n",
        "    finalD.pop(length - 1)\n",
        "    finalD.pop(0)\n",
        "\n",
        "    for a in range(len(finalD)):\n",
        "        finalD[a].pop(6)\n",
        "        finalD[a].pop(13)\n",
        "        finalD[a].pop(12)\n",
        "        finalD[a].pop(11)\n",
        "        finalD[a].pop(10)\n",
        "        finalD[a].pop(9)\n",
        "        finalD[a].pop(0)\n",
        "\n",
        "    return finalD\n",
        "\n",
        "\n",
        "def data_combine(year, cs):\n",
        "    for a in pd.read_csv('data/Real-Data/real_' + str(year) + '.csv', chunksize=cs):\n",
        "        df = pd.DataFrame(data=a)\n",
        "        mylist = df.values.tolist()\n",
        "    return mylist\n",
        "\n",
        "\n",
        "if __name__ == \"__main__\":\n",
        "    if not os.path.exists(\"data/Real-Data\"):\n",
        "        os.makedirs(\"data/Real-Data\")\n",
        "    for year in range(2016, 2021):\n",
        "        final_data = []\n",
        "        with open('data/Real-Data/real_' + str(year) + '.csv', 'w') as csvfile:\n",
        "            wr = csv.writer(csvfile, dialect='excel')\n",
        "            wr.writerow(\n",
        "                ['T', 'TM', 'Tm', 'SLP', 'H', 'VV', 'V', 'VM', 'PM 2.5'])\n",
        "        for month in range(1, 13):\n",
        "            temp = met_data(month, year)\n",
        "            final_data = final_data + temp\n",
        "            \n",
        "        pm = getattr(sys.modules[__name__], 'avg_data_{}'.format(year))()\n",
        "\n",
        "        if len(pm) == 364:\n",
        "            pm.insert(364, '-')\n",
        "\n",
        "        for i in range(len(final_data)-1):\n",
        "            # final[i].insert(0, i + 1)\n",
        "            final_data[i].insert(8, pm[i])\n",
        "\n",
        "        with open('data/Real-Data/real_' + str(year) + '.csv', 'a') as csvfile:\n",
        "            wr = csv.writer(csvfile, dialect='excel')\n",
        "            for row in final_data:\n",
        "                flag = 0\n",
        "                for elem in row:\n",
        "                    if elem == \"\" or elem == \"-\":\n",
        "                        flag = 1\n",
        "                if flag != 1:\n",
        "                    wr.writerow(row)\n",
        "                    \n",
        "    data_2016 = data_combine(2016, 600)\n",
        "    data_2017 = data_combine(2017, 600)\n",
        "    data_2018 = data_combine(2018, 600)\n",
        "    data_2019 = data_combine(2019, 600)\n",
        "    data_2020 = data_combine(2020, 600)\n",
        "     \n",
        "    total=data_2016+data_2017+data_2018+data_2019+data_2020    \n",
        "    with open('data/Real-Data/Real_Combine.csv', 'w') as csvfile:\n",
        "        wr = csv.writer(csvfile, dialect='excel')\n",
        "        wr.writerow(\n",
        "            ['T', 'TM', 'Tm', 'SLP', 'H', 'VV', 'V', 'VM', 'PM 2.5'])\n",
        "        wr.writerows(total)\n",
        "        \n",
        "        \n",
        "df=pd.read_csv('data/Real-Data/Real_Combine.csv')\n"
      ],
      "execution_count": 7,
      "outputs": []
    },
    {
      "cell_type": "markdown",
      "metadata": {
        "id": "Kr5FXnK4C5bo"
      },
      "source": [
        "#Combine Data"
      ]
    },
    {
      "cell_type": "code",
      "metadata": {
        "colab": {
          "base_uri": "https://localhost:8080/",
          "height": 203
        },
        "id": "n-QB68M3Fqhk",
        "outputId": "6cf9d5da-8e26-4690-a158-11544f239178"
      },
      "source": [
        "import pandas as pd\n",
        "import numpy as np\n",
        "import matplotlib.pyplot as plt\n",
        "import seaborn as sns\n",
        "\n",
        "combined_data = pd.read_csv('data/Real-Data/Real_Combine.csv')\n",
        "\n",
        "combined_data.head()"
      ],
      "execution_count": 8,
      "outputs": [
        {
          "output_type": "execute_result",
          "data": {
            "text/html": [
              "<div>\n",
              "<style scoped>\n",
              "    .dataframe tbody tr th:only-of-type {\n",
              "        vertical-align: middle;\n",
              "    }\n",
              "\n",
              "    .dataframe tbody tr th {\n",
              "        vertical-align: top;\n",
              "    }\n",
              "\n",
              "    .dataframe thead th {\n",
              "        text-align: right;\n",
              "    }\n",
              "</style>\n",
              "<table border=\"1\" class=\"dataframe\">\n",
              "  <thead>\n",
              "    <tr style=\"text-align: right;\">\n",
              "      <th></th>\n",
              "      <th>T</th>\n",
              "      <th>TM</th>\n",
              "      <th>Tm</th>\n",
              "      <th>SLP</th>\n",
              "      <th>H</th>\n",
              "      <th>VV</th>\n",
              "      <th>V</th>\n",
              "      <th>VM</th>\n",
              "      <th>PM 2.5</th>\n",
              "    </tr>\n",
              "  </thead>\n",
              "  <tbody>\n",
              "    <tr>\n",
              "      <th>0</th>\n",
              "      <td>16.4</td>\n",
              "      <td>22.4</td>\n",
              "      <td>9.0</td>\n",
              "      <td>1016.6</td>\n",
              "      <td>69.0</td>\n",
              "      <td>1.4</td>\n",
              "      <td>7.8</td>\n",
              "      <td>14.8</td>\n",
              "      <td>54.791667</td>\n",
              "    </tr>\n",
              "    <tr>\n",
              "      <th>1</th>\n",
              "      <td>28.0</td>\n",
              "      <td>30.3</td>\n",
              "      <td>26.0</td>\n",
              "      <td>997.4</td>\n",
              "      <td>90.0</td>\n",
              "      <td>2.6</td>\n",
              "      <td>9.4</td>\n",
              "      <td>16.5</td>\n",
              "      <td>0.000000</td>\n",
              "    </tr>\n",
              "    <tr>\n",
              "      <th>2</th>\n",
              "      <td>31.7</td>\n",
              "      <td>35.0</td>\n",
              "      <td>28.4</td>\n",
              "      <td>1001.4</td>\n",
              "      <td>70.0</td>\n",
              "      <td>3.5</td>\n",
              "      <td>12.0</td>\n",
              "      <td>20.6</td>\n",
              "      <td>37.625000</td>\n",
              "    </tr>\n",
              "    <tr>\n",
              "      <th>3</th>\n",
              "      <td>34.6</td>\n",
              "      <td>41.2</td>\n",
              "      <td>28.5</td>\n",
              "      <td>1004.5</td>\n",
              "      <td>38.0</td>\n",
              "      <td>2.7</td>\n",
              "      <td>17.4</td>\n",
              "      <td>22.2</td>\n",
              "      <td>105.750000</td>\n",
              "    </tr>\n",
              "    <tr>\n",
              "      <th>4</th>\n",
              "      <td>31.5</td>\n",
              "      <td>38.0</td>\n",
              "      <td>28.0</td>\n",
              "      <td>997.5</td>\n",
              "      <td>74.0</td>\n",
              "      <td>2.4</td>\n",
              "      <td>7.4</td>\n",
              "      <td>13.0</td>\n",
              "      <td>52.250000</td>\n",
              "    </tr>\n",
              "  </tbody>\n",
              "</table>\n",
              "</div>"
            ],
            "text/plain": [
              "      T    TM    Tm     SLP     H   VV     V    VM      PM 2.5\n",
              "0  16.4  22.4   9.0  1016.6  69.0  1.4   7.8  14.8   54.791667\n",
              "1  28.0  30.3  26.0   997.4  90.0  2.6   9.4  16.5    0.000000\n",
              "2  31.7  35.0  28.4  1001.4  70.0  3.5  12.0  20.6   37.625000\n",
              "3  34.6  41.2  28.5  1004.5  38.0  2.7  17.4  22.2  105.750000\n",
              "4  31.5  38.0  28.0   997.5  74.0  2.4   7.4  13.0   52.250000"
            ]
          },
          "metadata": {},
          "execution_count": 8
        }
      ]
    },
    {
      "cell_type": "code",
      "metadata": {
        "id": "TvEMJfyuF8PY"
      },
      "source": [
        "X = combined_data.iloc[:, :-1]\n",
        "y = combined_data.iloc[:, -1]"
      ],
      "execution_count": 52,
      "outputs": []
    },
    {
      "cell_type": "code",
      "metadata": {
        "id": "CmEnkMSlF_Wx"
      },
      "source": [
        "from sklearn.model_selection import train_test_split\n",
        "X_train, X_test, y_train, y_test = train_test_split(X, y, test_size=0.3, random_state=43)"
      ],
      "execution_count": 53,
      "outputs": []
    },
    {
      "cell_type": "markdown",
      "metadata": {
        "id": "DroWeYIbIAoo"
      },
      "source": [
        "#Linear Regression"
      ]
    },
    {
      "cell_type": "code",
      "metadata": {
        "colab": {
          "base_uri": "https://localhost:8080/"
        },
        "id": "kJKAvH6gIBET",
        "outputId": "583e308a-02aa-494d-fb38-2ac78f9eb9cd"
      },
      "source": [
        "\n",
        "from sklearn.linear_model import LinearRegression\n",
        "lin_reg = LinearRegression()\n",
        "lin_reg.fit(X_train, y_train)"
      ],
      "execution_count": 11,
      "outputs": [
        {
          "output_type": "execute_result",
          "data": {
            "text/plain": [
              "LinearRegression(copy_X=True, fit_intercept=True, n_jobs=None, normalize=False)"
            ]
          },
          "metadata": {},
          "execution_count": 11
        }
      ]
    },
    {
      "cell_type": "code",
      "metadata": {
        "colab": {
          "base_uri": "https://localhost:8080/",
          "height": 38
        },
        "id": "GhMa4rQmIfdu",
        "outputId": "6931f85e-3503-4ff5-8fe4-58349fd9151e"
      },
      "source": [
        "f'Coefficient of determination R^2 on train set {lin_reg.score(X_train, y_train)}'\n",
        "# must be close to 1, 1 is perfect fit"
      ],
      "execution_count": 12,
      "outputs": [
        {
          "output_type": "execute_result",
          "data": {
            "application/vnd.google.colaboratory.intrinsic+json": {
              "type": "string"
            },
            "text/plain": [
              "'Coefficient of determination R^2 on train set 1.0'"
            ]
          },
          "metadata": {},
          "execution_count": 12
        }
      ]
    },
    {
      "cell_type": "code",
      "metadata": {
        "colab": {
          "base_uri": "https://localhost:8080/",
          "height": 38
        },
        "id": "tUS0SGAiIkqw",
        "outputId": "59adf36a-e8fe-444d-89d6-c6d36dafc6ca"
      },
      "source": [
        "f'Coefficient of determination R^2 on test set {lin_reg.score(X_test, y_test)}'"
      ],
      "execution_count": 13,
      "outputs": [
        {
          "output_type": "execute_result",
          "data": {
            "application/vnd.google.colaboratory.intrinsic+json": {
              "type": "string"
            },
            "text/plain": [
              "'Coefficient of determination R^2 on test set -0.479639770111909'"
            ]
          },
          "metadata": {},
          "execution_count": 13
        }
      ]
    },
    {
      "cell_type": "code",
      "metadata": {
        "colab": {
          "base_uri": "https://localhost:8080/"
        },
        "id": "Jdnfo4WGIoB5",
        "outputId": "875a0933-0f6b-4417-b70c-e3482946cba7"
      },
      "source": [
        "lin_reg.coef_"
      ],
      "execution_count": 14,
      "outputs": [
        {
          "output_type": "execute_result",
          "data": {
            "text/plain": [
              "array([-11.11452946,   6.14245349,   5.14305594,   0.06681716,\n",
              "        -2.20240559, -11.96185053,  -3.03790233,   2.89871329])"
            ]
          },
          "metadata": {},
          "execution_count": 14
        }
      ]
    },
    {
      "cell_type": "code",
      "metadata": {
        "colab": {
          "base_uri": "https://localhost:8080/"
        },
        "id": "LKidGsyYItVy",
        "outputId": "a7329689-56cb-4866-da9d-685a80fc0cf7"
      },
      "source": [
        "lin_reg.intercept_"
      ],
      "execution_count": 15,
      "outputs": [
        {
          "output_type": "execute_result",
          "data": {
            "text/plain": [
              "134.77241849492887"
            ]
          },
          "metadata": {},
          "execution_count": 15
        }
      ]
    },
    {
      "cell_type": "code",
      "metadata": {
        "id": "evmUuzGpIwnC"
      },
      "source": [
        "from sklearn.model_selection import cross_val_score\n",
        "score = cross_val_score(lin_reg, X, y, cv = 3)"
      ],
      "execution_count": 16,
      "outputs": []
    },
    {
      "cell_type": "code",
      "metadata": {
        "colab": {
          "base_uri": "https://localhost:8080/"
        },
        "id": "hffPHKXgIybm",
        "outputId": "26420148-f835-4556-fcbc-f82afac7d775"
      },
      "source": [
        "score.mean()"
      ],
      "execution_count": 17,
      "outputs": [
        {
          "output_type": "execute_result",
          "data": {
            "text/plain": [
              "-7.216503956513414"
            ]
          },
          "metadata": {},
          "execution_count": 17
        }
      ]
    },
    {
      "cell_type": "code",
      "metadata": {
        "colab": {
          "base_uri": "https://localhost:8080/",
          "height": 295
        },
        "id": "eWEEU7RSI3Sl",
        "outputId": "e1765fd6-09b3-4d71-c0c6-ca14c33f66eb"
      },
      "source": [
        "pd.DataFrame(lin_reg.coef_, X.columns, columns=['Coeff'])"
      ],
      "execution_count": 18,
      "outputs": [
        {
          "output_type": "execute_result",
          "data": {
            "text/html": [
              "<div>\n",
              "<style scoped>\n",
              "    .dataframe tbody tr th:only-of-type {\n",
              "        vertical-align: middle;\n",
              "    }\n",
              "\n",
              "    .dataframe tbody tr th {\n",
              "        vertical-align: top;\n",
              "    }\n",
              "\n",
              "    .dataframe thead th {\n",
              "        text-align: right;\n",
              "    }\n",
              "</style>\n",
              "<table border=\"1\" class=\"dataframe\">\n",
              "  <thead>\n",
              "    <tr style=\"text-align: right;\">\n",
              "      <th></th>\n",
              "      <th>Coeff</th>\n",
              "    </tr>\n",
              "  </thead>\n",
              "  <tbody>\n",
              "    <tr>\n",
              "      <th>T</th>\n",
              "      <td>-11.114529</td>\n",
              "    </tr>\n",
              "    <tr>\n",
              "      <th>TM</th>\n",
              "      <td>6.142453</td>\n",
              "    </tr>\n",
              "    <tr>\n",
              "      <th>Tm</th>\n",
              "      <td>5.143056</td>\n",
              "    </tr>\n",
              "    <tr>\n",
              "      <th>SLP</th>\n",
              "      <td>0.066817</td>\n",
              "    </tr>\n",
              "    <tr>\n",
              "      <th>H</th>\n",
              "      <td>-2.202406</td>\n",
              "    </tr>\n",
              "    <tr>\n",
              "      <th>VV</th>\n",
              "      <td>-11.961851</td>\n",
              "    </tr>\n",
              "    <tr>\n",
              "      <th>V</th>\n",
              "      <td>-3.037902</td>\n",
              "    </tr>\n",
              "    <tr>\n",
              "      <th>VM</th>\n",
              "      <td>2.898713</td>\n",
              "    </tr>\n",
              "  </tbody>\n",
              "</table>\n",
              "</div>"
            ],
            "text/plain": [
              "         Coeff\n",
              "T   -11.114529\n",
              "TM    6.142453\n",
              "Tm    5.143056\n",
              "SLP   0.066817\n",
              "H    -2.202406\n",
              "VV  -11.961851\n",
              "V    -3.037902\n",
              "VM    2.898713"
            ]
          },
          "metadata": {},
          "execution_count": 18
        }
      ]
    },
    {
      "cell_type": "code",
      "metadata": {
        "colab": {
          "base_uri": "https://localhost:8080/"
        },
        "id": "Gzu94SwnI78o",
        "outputId": "afa10341-2df3-46f8-cd91-406a2554649c"
      },
      "source": [
        "c = 0\n",
        "for val in lin_reg.coef_:\n",
        "    effect = 'increase' if val>0 else 'decrease'\n",
        "    print(f'Holding all other features fixed a 1 unit increase in {X.columns[c]} is associated with {effect} of val in AQI PM2.5')\n",
        "    c = c+1"
      ],
      "execution_count": 19,
      "outputs": [
        {
          "output_type": "stream",
          "name": "stdout",
          "text": [
            "Holding all other features fixed a 1 unit increase in T is associated with decrease of val in AQI PM2.5\n",
            "Holding all other features fixed a 1 unit increase in TM is associated with increase of val in AQI PM2.5\n",
            "Holding all other features fixed a 1 unit increase in Tm is associated with increase of val in AQI PM2.5\n",
            "Holding all other features fixed a 1 unit increase in SLP is associated with increase of val in AQI PM2.5\n",
            "Holding all other features fixed a 1 unit increase in H is associated with decrease of val in AQI PM2.5\n",
            "Holding all other features fixed a 1 unit increase in VV is associated with decrease of val in AQI PM2.5\n",
            "Holding all other features fixed a 1 unit increase in V is associated with decrease of val in AQI PM2.5\n",
            "Holding all other features fixed a 1 unit increase in VM is associated with increase of val in AQI PM2.5\n"
          ]
        }
      ]
    },
    {
      "cell_type": "code",
      "metadata": {
        "id": "H5S1Q39BI_ja"
      },
      "source": [
        "pred = lin_reg.predict(X_test)"
      ],
      "execution_count": 20,
      "outputs": []
    },
    {
      "cell_type": "code",
      "metadata": {
        "colab": {
          "base_uri": "https://localhost:8080/",
          "height": 359
        },
        "id": "Q8EJPqD9JCex",
        "outputId": "3e22e6f8-1d05-4a79-c9eb-7c719f7233ee"
      },
      "source": [
        "sns.distplot(y_test - pred)"
      ],
      "execution_count": 21,
      "outputs": [
        {
          "output_type": "stream",
          "name": "stderr",
          "text": [
            "/usr/local/lib/python3.7/dist-packages/seaborn/distributions.py:2619: FutureWarning: `distplot` is a deprecated function and will be removed in a future version. Please adapt your code to use either `displot` (a figure-level function with similar flexibility) or `histplot` (an axes-level function for histograms).\n",
            "  warnings.warn(msg, FutureWarning)\n"
          ]
        },
        {
          "output_type": "execute_result",
          "data": {
            "text/plain": [
              "<matplotlib.axes._subplots.AxesSubplot at 0x7f829c0e99d0>"
            ]
          },
          "metadata": {},
          "execution_count": 21
        },
        {
          "output_type": "display_data",
          "data": {
            "image/png": "[encoded data removed]",
            "text/plain": [
              "<Figure size 432x288 with 1 Axes>"
            ]
          },
          "metadata": {
            "needs_background": "light"
          }
        }
      ]
    },
    {
      "cell_type": "code",
      "metadata": {
        "colab": {
          "base_uri": "https://localhost:8080/"
        },
        "id": "7Y-2d84YJGfy",
        "outputId": "0903b459-fe09-4527-d109-2716cb1320e4"
      },
      "source": [
        "from sklearn import metrics\n",
        "print(f\"Mean Abs Error: {metrics.mean_absolute_error(y_test, pred)}\")\n",
        "print(f\"Mean Sq Error: {metrics.mean_squared_error(y_test, pred)}\")\n",
        "print(f\"Root Mean Error: {np.sqrt(metrics.mean_squared_error(y_test, pred))}\")"
      ],
      "execution_count": 22,
      "outputs": [
        {
          "output_type": "stream",
          "name": "stdout",
          "text": [
            "Mean Abs Error: 59.02845445187008\n",
            "Mean Sq Error: 9605.660979088343\n",
            "Root Mean Error: 98.00847401673155\n"
          ]
        }
      ]
    },
    {
      "cell_type": "code",
      "metadata": {
        "id": "ZFzTFog9JKWK"
      },
      "source": [
        "import pickle\n",
        "pickle.dump(lin_reg, open('linreg.pkl', 'wb'))\n"
      ],
      "execution_count": 23,
      "outputs": []
    },
    {
      "cell_type": "code",
      "metadata": {
        "colab": {
          "base_uri": "https://localhost:8080/"
        },
        "id": "VT8GURe3ertZ",
        "outputId": "6b59e578-c041-4ef1-a1cb-690441f429fe"
      },
      "source": [
        "np.mean(cross_val_score(lin_reg, X, y, scoring='neg_mean_squared_error', cv=3))\n",
        "# neg_mean_squared_error must be as close to 0 as possible"
      ],
      "execution_count": 24,
      "outputs": [
        {
          "output_type": "execute_result",
          "data": {
            "text/plain": [
              "-14576.458092485916"
            ]
          },
          "metadata": {},
          "execution_count": 24
        }
      ]
    },
    {
      "cell_type": "markdown",
      "metadata": {
        "id": "Qgx9iq7kfh9m"
      },
      "source": [
        "#Lasso"
      ]
    },
    {
      "cell_type": "code",
      "metadata": {
        "id": "8FSrMte_fmG9"
      },
      "source": [
        "from sklearn.linear_model import Ridge\n",
        "from sklearn.model_selection import GridSearchCV\n",
        "ridge = Ridge()\n",
        "params = {'alpha': [1e-15, 1e-10, 1e-8, 1e-3, 1e-2, 1, 5, 10, 20]}\n",
        "ridge_cv = GridSearchCV(ridge, params, scoring='neg_mean_squared_error', cv=3)\n",
        "ridge_cv.fit(X,y)"
      ],
      "execution_count": null,
      "outputs": []
    },
    {
      "cell_type": "code",
      "metadata": {
        "colab": {
          "base_uri": "https://localhost:8080/"
        },
        "id": "YzzTzMMnhxvR",
        "outputId": "792da79c-779a-4f35-cbbd-709f02e0560d"
      },
      "source": [
        "ridge_cv.best_params_"
      ],
      "execution_count": 26,
      "outputs": [
        {
          "output_type": "execute_result",
          "data": {
            "text/plain": [
              "{'alpha': 20}"
            ]
          },
          "metadata": {},
          "execution_count": 26
        }
      ]
    },
    {
      "cell_type": "code",
      "metadata": {
        "colab": {
          "base_uri": "https://localhost:8080/"
        },
        "id": "cSqcVQbvhx_b",
        "outputId": "31e3bd08-6e80-4ebb-ce07-16265cb85575"
      },
      "source": [
        "ridge_cv.best_score_"
      ],
      "execution_count": 27,
      "outputs": [
        {
          "output_type": "execute_result",
          "data": {
            "text/plain": [
              "-6959.020617059829"
            ]
          },
          "metadata": {},
          "execution_count": 27
        }
      ]
    },
    {
      "cell_type": "markdown",
      "metadata": {
        "id": "vOmNf-sOh7m7"
      },
      "source": [
        "#lasso regression"
      ]
    },
    {
      "cell_type": "code",
      "metadata": {
        "colab": {
          "base_uri": "https://localhost:8080/"
        },
        "id": "OkgHDah-h6C-",
        "outputId": "00efcaef-b2cb-49c0-f29a-2a6276f12999"
      },
      "source": [
        "from sklearn.linear_model import Lasso\n",
        "lasso = Lasso(tol=1)\n",
        "# used tol = 1 since warning was given that convergence not taking place\n",
        "params = {'alpha': [1e-15, 1e-10, 1e-8, 1e-3, 1e-2, 1, 5, 10, 20, 30, 50]}\n",
        "lasso_cv = GridSearchCV(lasso, params, scoring='neg_mean_squared_error', cv=3)\n",
        "lasso_cv.fit(X,y)"
      ],
      "execution_count": 28,
      "outputs": [
        {
          "output_type": "execute_result",
          "data": {
            "text/plain": [
              "GridSearchCV(cv=3, error_score=nan,\n",
              "             estimator=Lasso(alpha=1.0, copy_X=True, fit_intercept=True,\n",
              "                             max_iter=1000, normalize=False, positive=False,\n",
              "                             precompute=False, random_state=None,\n",
              "                             selection='cyclic', tol=1, warm_start=False),\n",
              "             iid='deprecated', n_jobs=None,\n",
              "             param_grid={'alpha': [1e-15, 1e-10, 1e-08, 0.001, 0.01, 1, 5, 10,\n",
              "                                   20, 30, 50]},\n",
              "             pre_dispatch='2*n_jobs', refit=True, return_train_score=False,\n",
              "             scoring='neg_mean_squared_error', verbose=0)"
            ]
          },
          "metadata": {},
          "execution_count": 28
        }
      ]
    },
    {
      "cell_type": "code",
      "metadata": {
        "colab": {
          "base_uri": "https://localhost:8080/"
        },
        "id": "WxyGUU9wiE-V",
        "outputId": "fb92da95-1a2c-45f5-b1b3-cd656a17af55"
      },
      "source": [
        "lasso_cv.best_params_"
      ],
      "execution_count": 29,
      "outputs": [
        {
          "output_type": "execute_result",
          "data": {
            "text/plain": [
              "{'alpha': 1}"
            ]
          },
          "metadata": {},
          "execution_count": 29
        }
      ]
    },
    {
      "cell_type": "code",
      "metadata": {
        "colab": {
          "base_uri": "https://localhost:8080/"
        },
        "id": "mZAiiWRniH6D",
        "outputId": "aa731358-f825-4734-a36b-a486b5a4b4d7"
      },
      "source": [
        "lasso_cv.best_score_"
      ],
      "execution_count": 30,
      "outputs": [
        {
          "output_type": "execute_result",
          "data": {
            "text/plain": [
              "-6619.455369894208"
            ]
          },
          "metadata": {},
          "execution_count": 30
        }
      ]
    },
    {
      "cell_type": "code",
      "metadata": {
        "id": "dGkqCa-Ziia9"
      },
      "source": [
        "pred = lasso_cv.predict(X_test)"
      ],
      "execution_count": 31,
      "outputs": []
    },
    {
      "cell_type": "code",
      "metadata": {
        "colab": {
          "base_uri": "https://localhost:8080/",
          "height": 359
        },
        "id": "1LV6E_Jgirmf",
        "outputId": "e99f0424-397b-431d-a601-57cf527a4cd3"
      },
      "source": [
        "sns.distplot(y_test-pred)"
      ],
      "execution_count": 32,
      "outputs": [
        {
          "output_type": "stream",
          "name": "stderr",
          "text": [
            "/usr/local/lib/python3.7/dist-packages/seaborn/distributions.py:2619: FutureWarning: `distplot` is a deprecated function and will be removed in a future version. Please adapt your code to use either `displot` (a figure-level function with similar flexibility) or `histplot` (an axes-level function for histograms).\n",
            "  warnings.warn(msg, FutureWarning)\n"
          ]
        },
        {
          "output_type": "execute_result",
          "data": {
            "text/plain": [
              "<matplotlib.axes._subplots.AxesSubplot at 0x7f829bd5f410>"
            ]
          },
          "metadata": {},
          "execution_count": 32
        },
        {
          "output_type": "display_data",
          "data": {
            "image/png": "[encoded data removed]",
            "text/plain": [
              "<Figure size 432x288 with 1 Axes>"
            ]
          },
          "metadata": {
            "needs_background": "light"
          }
        }
      ]
    },
    {
      "cell_type": "code",
      "metadata": {
        "colab": {
          "base_uri": "https://localhost:8080/"
        },
        "id": "En1dsYMuiuHv",
        "outputId": "78a14eae-f830-4a29-a689-9f21ac168299"
      },
      "source": [
        "from sklearn import metrics\n",
        "print(f\"Mean Abs Error: {metrics.mean_absolute_error(y_test, pred)}\")\n",
        "print(f\"Mean Sq Error: {metrics.mean_squared_error(y_test, pred)}\")\n",
        "print(f\"Root Mean Error: {np.sqrt(metrics.mean_squared_error(y_test, pred))}\")"
      ],
      "execution_count": 33,
      "outputs": [
        {
          "output_type": "stream",
          "name": "stdout",
          "text": [
            "Mean Abs Error: 27.473498895260274\n",
            "Mean Sq Error: 1418.408672109416\n",
            "Root Mean Error: 37.6617667151903\n"
          ]
        }
      ]
    },
    {
      "cell_type": "code",
      "metadata": {
        "id": "AVl14zyzi4RS"
      },
      "source": [
        "import pickle\n",
        "pickle.dump(lasso_cv, open('lasso.pkl', 'wb'))"
      ],
      "execution_count": 35,
      "outputs": []
    },
    {
      "cell_type": "markdown",
      "metadata": {
        "id": "zcc-ZseCzZbx"
      },
      "source": [
        "#Featuring"
      ]
    },
    {
      "cell_type": "code",
      "metadata": {
        "colab": {
          "base_uri": "https://localhost:8080/",
          "height": 203
        },
        "id": "t0kqRTxxzcqA",
        "outputId": "47aa9a9e-d675-45fe-cf4d-aac4c4a76750"
      },
      "source": [
        "combined_data.head()"
      ],
      "execution_count": 54,
      "outputs": [
        {
          "output_type": "execute_result",
          "data": {
            "text/html": [
              "<div>\n",
              "<style scoped>\n",
              "    .dataframe tbody tr th:only-of-type {\n",
              "        vertical-align: middle;\n",
              "    }\n",
              "\n",
              "    .dataframe tbody tr th {\n",
              "        vertical-align: top;\n",
              "    }\n",
              "\n",
              "    .dataframe thead th {\n",
              "        text-align: right;\n",
              "    }\n",
              "</style>\n",
              "<table border=\"1\" class=\"dataframe\">\n",
              "  <thead>\n",
              "    <tr style=\"text-align: right;\">\n",
              "      <th></th>\n",
              "      <th>T</th>\n",
              "      <th>TM</th>\n",
              "      <th>Tm</th>\n",
              "      <th>SLP</th>\n",
              "      <th>H</th>\n",
              "      <th>VV</th>\n",
              "      <th>V</th>\n",
              "      <th>VM</th>\n",
              "      <th>PM 2.5</th>\n",
              "    </tr>\n",
              "  </thead>\n",
              "  <tbody>\n",
              "    <tr>\n",
              "      <th>0</th>\n",
              "      <td>16.4</td>\n",
              "      <td>22.4</td>\n",
              "      <td>9.0</td>\n",
              "      <td>1016.6</td>\n",
              "      <td>69.0</td>\n",
              "      <td>1.4</td>\n",
              "      <td>7.8</td>\n",
              "      <td>14.8</td>\n",
              "      <td>54.791667</td>\n",
              "    </tr>\n",
              "    <tr>\n",
              "      <th>1</th>\n",
              "      <td>28.0</td>\n",
              "      <td>30.3</td>\n",
              "      <td>26.0</td>\n",
              "      <td>997.4</td>\n",
              "      <td>90.0</td>\n",
              "      <td>2.6</td>\n",
              "      <td>9.4</td>\n",
              "      <td>16.5</td>\n",
              "      <td>0.000000</td>\n",
              "    </tr>\n",
              "    <tr>\n",
              "      <th>2</th>\n",
              "      <td>31.7</td>\n",
              "      <td>35.0</td>\n",
              "      <td>28.4</td>\n",
              "      <td>1001.4</td>\n",
              "      <td>70.0</td>\n",
              "      <td>3.5</td>\n",
              "      <td>12.0</td>\n",
              "      <td>20.6</td>\n",
              "      <td>37.625000</td>\n",
              "    </tr>\n",
              "    <tr>\n",
              "      <th>3</th>\n",
              "      <td>34.6</td>\n",
              "      <td>41.2</td>\n",
              "      <td>28.5</td>\n",
              "      <td>1004.5</td>\n",
              "      <td>38.0</td>\n",
              "      <td>2.7</td>\n",
              "      <td>17.4</td>\n",
              "      <td>22.2</td>\n",
              "      <td>105.750000</td>\n",
              "    </tr>\n",
              "    <tr>\n",
              "      <th>4</th>\n",
              "      <td>31.5</td>\n",
              "      <td>38.0</td>\n",
              "      <td>28.0</td>\n",
              "      <td>997.5</td>\n",
              "      <td>74.0</td>\n",
              "      <td>2.4</td>\n",
              "      <td>7.4</td>\n",
              "      <td>13.0</td>\n",
              "      <td>52.250000</td>\n",
              "    </tr>\n",
              "  </tbody>\n",
              "</table>\n",
              "</div>"
            ],
            "text/plain": [
              "      T    TM    Tm     SLP     H   VV     V    VM      PM 2.5\n",
              "0  16.4  22.4   9.0  1016.6  69.0  1.4   7.8  14.8   54.791667\n",
              "1  28.0  30.3  26.0   997.4  90.0  2.6   9.4  16.5    0.000000\n",
              "2  31.7  35.0  28.4  1001.4  70.0  3.5  12.0  20.6   37.625000\n",
              "3  34.6  41.2  28.5  1004.5  38.0  2.7  17.4  22.2  105.750000\n",
              "4  31.5  38.0  28.0   997.5  74.0  2.4   7.4  13.0   52.250000"
            ]
          },
          "metadata": {},
          "execution_count": 54
        }
      ]
    },
    {
      "cell_type": "code",
      "metadata": {
        "colab": {
          "base_uri": "https://localhost:8080/"
        },
        "id": "AuJg2axczjqn",
        "outputId": "2598f88d-3a2d-483c-b7f5-1da91e8fff60"
      },
      "source": [
        "combined_data.dtypes"
      ],
      "execution_count": 55,
      "outputs": [
        {
          "output_type": "execute_result",
          "data": {
            "text/plain": [
              "T         float64\n",
              "TM        float64\n",
              "Tm        float64\n",
              "SLP       float64\n",
              "H         float64\n",
              "VV        float64\n",
              "V         float64\n",
              "VM        float64\n",
              "PM 2.5    float64\n",
              "dtype: object"
            ]
          },
          "metadata": {},
          "execution_count": 55
        }
      ]
    },
    {
      "cell_type": "code",
      "metadata": {
        "id": "Ygj5zaegzoSe"
      },
      "source": [
        "for col in combined_data.columns[:-1]:\n",
        "    combined_data[col] = pd.to_numeric(combined_data[col], errors='coerce')"
      ],
      "execution_count": 56,
      "outputs": []
    },
    {
      "cell_type": "code",
      "metadata": {
        "colab": {
          "base_uri": "https://localhost:8080/"
        },
        "id": "h3jh_Bm5zqxC",
        "outputId": "737d2da1-b038-4736-9e20-07435e8b65e3"
      },
      "source": [
        "\n",
        "combined_data.isna().sum()"
      ],
      "execution_count": 57,
      "outputs": [
        {
          "output_type": "execute_result",
          "data": {
            "text/plain": [
              "T         0\n",
              "TM        0\n",
              "Tm        0\n",
              "SLP       0\n",
              "H         0\n",
              "VV        0\n",
              "V         0\n",
              "VM        0\n",
              "PM 2.5    0\n",
              "dtype: int64"
            ]
          },
          "metadata": {},
          "execution_count": 57
        }
      ]
    },
    {
      "cell_type": "code",
      "metadata": {
        "colab": {
          "base_uri": "https://localhost:8080/",
          "height": 285
        },
        "id": "bSFVPIjAz196",
        "outputId": "249e759e-2684-4b41-dd4a-395625c8bc10"
      },
      "source": [
        "sns.heatmap(combined_data.isna(), yticklabels=False, cbar=False)"
      ],
      "execution_count": 58,
      "outputs": [
        {
          "output_type": "execute_result",
          "data": {
            "text/plain": [
              "<matplotlib.axes._subplots.AxesSubplot at 0x7f827ed2a690>"
            ]
          },
          "metadata": {},
          "execution_count": 58
        },
        {
          "output_type": "display_data",
          "data": {
            "image/png": "[encoded data removed]",
            "text/plain": [
              "<Figure size 432x288 with 1 Axes>"
            ]
          },
          "metadata": {
            "needs_background": "light"
          }
        }
      ]
    },
    {
      "cell_type": "code",
      "metadata": {
        "id": "X_Iwgj73z2G8"
      },
      "source": [
        "\n",
        "combined_data = combined_data.dropna()"
      ],
      "execution_count": 59,
      "outputs": []
    },
    {
      "cell_type": "code",
      "metadata": {
        "colab": {
          "base_uri": "https://localhost:8080/"
        },
        "id": "ygZMW81qz2TU",
        "outputId": "bbba10c4-8986-49a2-e3fb-690446c6251c"
      },
      "source": [
        "combined_data.shape"
      ],
      "execution_count": 60,
      "outputs": [
        {
          "output_type": "execute_result",
          "data": {
            "text/plain": [
              "(10, 9)"
            ]
          },
          "metadata": {},
          "execution_count": 60
        }
      ]
    },
    {
      "cell_type": "code",
      "metadata": {
        "colab": {
          "base_uri": "https://localhost:8080/",
          "height": 1000
        },
        "id": "iAwO75Lvz2lB",
        "outputId": "0dad97c9-e426-472a-f7b6-3f4c64ae92af"
      },
      "source": [
        "sns.pairplot(combined_data)"
      ],
      "execution_count": 64,
      "outputs": [
        {
          "output_type": "execute_result",
          "data": {
            "text/plain": [
              "<seaborn.axisgrid.PairGrid at 0x7f827eacfa50>"
            ]
          },
          "metadata": {},
          "execution_count": 64
        },
        {
          "output_type": "display_data",
          "data": {
            "image/png": "[encoded data removed]",
            "text/plain": [
              "<Figure size 1620x1620 with 90 Axes>"
            ]
          },
          "metadata": {
            "needs_background": "light"
          }
        }
      ]
    },
    {
      "cell_type": "code",
      "metadata": {
        "colab": {
          "base_uri": "https://localhost:8080/",
          "height": 326
        },
        "id": "PTfsbfX50XaD",
        "outputId": "315ae078-a1ba-4243-deb1-92aebe2660c8"
      },
      "source": [
        "\n",
        "combined_data.corr()"
      ],
      "execution_count": 65,
      "outputs": [
        {
          "output_type": "execute_result",
          "data": {
            "text/html": [
              "<div>\n",
              "<style scoped>\n",
              "    .dataframe tbody tr th:only-of-type {\n",
              "        vertical-align: middle;\n",
              "    }\n",
              "\n",
              "    .dataframe tbody tr th {\n",
              "        vertical-align: top;\n",
              "    }\n",
              "\n",
              "    .dataframe thead th {\n",
              "        text-align: right;\n",
              "    }\n",
              "</style>\n",
              "<table border=\"1\" class=\"dataframe\">\n",
              "  <thead>\n",
              "    <tr style=\"text-align: right;\">\n",
              "      <th></th>\n",
              "      <th>T</th>\n",
              "      <th>TM</th>\n",
              "      <th>Tm</th>\n",
              "      <th>SLP</th>\n",
              "      <th>H</th>\n",
              "      <th>VV</th>\n",
              "      <th>V</th>\n",
              "      <th>VM</th>\n",
              "      <th>PM 2.5</th>\n",
              "    </tr>\n",
              "  </thead>\n",
              "  <tbody>\n",
              "    <tr>\n",
              "      <th>T</th>\n",
              "      <td>1.000000</td>\n",
              "      <td>0.951652</td>\n",
              "      <td>0.981911</td>\n",
              "      <td>-0.858798</td>\n",
              "      <td>-0.456796</td>\n",
              "      <td>0.897524</td>\n",
              "      <td>0.438535</td>\n",
              "      <td>0.218362</td>\n",
              "      <td>-0.604835</td>\n",
              "    </tr>\n",
              "    <tr>\n",
              "      <th>TM</th>\n",
              "      <td>0.951652</td>\n",
              "      <td>1.000000</td>\n",
              "      <td>0.906015</td>\n",
              "      <td>-0.742579</td>\n",
              "      <td>-0.609865</td>\n",
              "      <td>0.793521</td>\n",
              "      <td>0.583420</td>\n",
              "      <td>0.313388</td>\n",
              "      <td>-0.409700</td>\n",
              "    </tr>\n",
              "    <tr>\n",
              "      <th>Tm</th>\n",
              "      <td>0.981911</td>\n",
              "      <td>0.906015</td>\n",
              "      <td>1.000000</td>\n",
              "      <td>-0.913771</td>\n",
              "      <td>-0.305766</td>\n",
              "      <td>0.890937</td>\n",
              "      <td>0.355085</td>\n",
              "      <td>0.168424</td>\n",
              "      <td>-0.611922</td>\n",
              "    </tr>\n",
              "    <tr>\n",
              "      <th>SLP</th>\n",
              "      <td>-0.858798</td>\n",
              "      <td>-0.742579</td>\n",
              "      <td>-0.913771</td>\n",
              "      <td>1.000000</td>\n",
              "      <td>-0.011389</td>\n",
              "      <td>-0.789390</td>\n",
              "      <td>-0.040189</td>\n",
              "      <td>0.186812</td>\n",
              "      <td>0.729953</td>\n",
              "    </tr>\n",
              "    <tr>\n",
              "      <th>H</th>\n",
              "      <td>-0.456796</td>\n",
              "      <td>-0.609865</td>\n",
              "      <td>-0.305766</td>\n",
              "      <td>-0.011389</td>\n",
              "      <td>1.000000</td>\n",
              "      <td>-0.281070</td>\n",
              "      <td>-0.817242</td>\n",
              "      <td>-0.644075</td>\n",
              "      <td>-0.097568</td>\n",
              "    </tr>\n",
              "    <tr>\n",
              "      <th>VV</th>\n",
              "      <td>0.897524</td>\n",
              "      <td>0.793521</td>\n",
              "      <td>0.890937</td>\n",
              "      <td>-0.789390</td>\n",
              "      <td>-0.281070</td>\n",
              "      <td>1.000000</td>\n",
              "      <td>0.356589</td>\n",
              "      <td>0.210210</td>\n",
              "      <td>-0.714247</td>\n",
              "    </tr>\n",
              "    <tr>\n",
              "      <th>V</th>\n",
              "      <td>0.438535</td>\n",
              "      <td>0.583420</td>\n",
              "      <td>0.355085</td>\n",
              "      <td>-0.040189</td>\n",
              "      <td>-0.817242</td>\n",
              "      <td>0.356589</td>\n",
              "      <td>1.000000</td>\n",
              "      <td>0.889322</td>\n",
              "      <td>0.175769</td>\n",
              "    </tr>\n",
              "    <tr>\n",
              "      <th>VM</th>\n",
              "      <td>0.218362</td>\n",
              "      <td>0.313388</td>\n",
              "      <td>0.168424</td>\n",
              "      <td>0.186812</td>\n",
              "      <td>-0.644075</td>\n",
              "      <td>0.210210</td>\n",
              "      <td>0.889322</td>\n",
              "      <td>1.000000</td>\n",
              "      <td>0.286107</td>\n",
              "    </tr>\n",
              "    <tr>\n",
              "      <th>PM 2.5</th>\n",
              "      <td>-0.604835</td>\n",
              "      <td>-0.409700</td>\n",
              "      <td>-0.611922</td>\n",
              "      <td>0.729953</td>\n",
              "      <td>-0.097568</td>\n",
              "      <td>-0.714247</td>\n",
              "      <td>0.175769</td>\n",
              "      <td>0.286107</td>\n",
              "      <td>1.000000</td>\n",
              "    </tr>\n",
              "  </tbody>\n",
              "</table>\n",
              "</div>"
            ],
            "text/plain": [
              "               T        TM        Tm  ...         V        VM    PM 2.5\n",
              "T       1.000000  0.951652  0.981911  ...  0.438535  0.218362 -0.604835\n",
              "TM      0.951652  1.000000  0.906015  ...  0.583420  0.313388 -0.409700\n",
              "Tm      0.981911  0.906015  1.000000  ...  0.355085  0.168424 -0.611922\n",
              "SLP    -0.858798 -0.742579 -0.913771  ... -0.040189  0.186812  0.729953\n",
              "H      -0.456796 -0.609865 -0.305766  ... -0.817242 -0.644075 -0.097568\n",
              "VV      0.897524  0.793521  0.890937  ...  0.356589  0.210210 -0.714247\n",
              "V       0.438535  0.583420  0.355085  ...  1.000000  0.889322  0.175769\n",
              "VM      0.218362  0.313388  0.168424  ...  0.889322  1.000000  0.286107\n",
              "PM 2.5 -0.604835 -0.409700 -0.611922  ...  0.175769  0.286107  1.000000\n",
              "\n",
              "[9 rows x 9 columns]"
            ]
          },
          "metadata": {},
          "execution_count": 65
        }
      ]
    },
    {
      "cell_type": "code",
      "metadata": {
        "colab": {
          "base_uri": "https://localhost:8080/",
          "height": 595
        },
        "id": "UF3weN5S0YGH",
        "outputId": "f1c55f5d-a682-49b2-cf5c-da618a55d017"
      },
      "source": [
        "plt.figure(figsize=(15, 10))\n",
        "ax = sns.heatmap(combined_data.corr(), annot=True,cmap=\"RdYlGn\")\n",
        "# need this since due to bug in current version of matplotlib and seaborn\n",
        "# top and bottom rows are cut in half\n",
        "bottom, top = ax.get_ylim()\n",
        "ax.set_ylim(bottom + 0.5, top - 0.5);\n"
      ],
      "execution_count": 78,
      "outputs": [
        {
          "output_type": "display_data",
          "data": {
            "image/png": "[encoded data removed]",
            "text/plain": [
              "<Figure size 1080x720 with 2 Axes>"
            ]
          },
          "metadata": {
            "needs_background": "light"
          }
        }
      ]
    },
    {
      "cell_type": "code",
      "metadata": {
        "colab": {
          "base_uri": "https://localhost:8080/"
        },
        "id": "jK3kSSgu0YR7",
        "outputId": "84c647d5-01a0-42a8-a898-2a02c5ef4789"
      },
      "source": [
        "from sklearn.ensemble import ExtraTreesRegressor\n",
        "feature_selector = ExtraTreesRegressor()\n",
        "feature_selector.fit(X,y)"
      ],
      "execution_count": 67,
      "outputs": [
        {
          "output_type": "execute_result",
          "data": {
            "text/plain": [
              "ExtraTreesRegressor(bootstrap=False, ccp_alpha=0.0, criterion='mse',\n",
              "                    max_depth=None, max_features='auto', max_leaf_nodes=None,\n",
              "                    max_samples=None, min_impurity_decrease=0.0,\n",
              "                    min_impurity_split=None, min_samples_leaf=1,\n",
              "                    min_samples_split=2, min_weight_fraction_leaf=0.0,\n",
              "                    n_estimators=100, n_jobs=None, oob_score=False,\n",
              "                    random_state=None, verbose=0, warm_start=False)"
            ]
          },
          "metadata": {},
          "execution_count": 67
        }
      ]
    },
    {
      "cell_type": "code",
      "metadata": {
        "colab": {
          "base_uri": "https://localhost:8080/"
        },
        "id": "blsc7znZ0oZ9",
        "outputId": "b5e3df2b-a2ae-4b72-a788-522b1e38ddbf"
      },
      "source": [
        "\n",
        "feature_selector.feature_importances_"
      ],
      "execution_count": 68,
      "outputs": [
        {
          "output_type": "execute_result",
          "data": {
            "text/plain": [
              "array([0.18799398, 0.13790425, 0.10463851, 0.12393373, 0.09435214,\n",
              "       0.21131992, 0.0841852 , 0.05567229])"
            ]
          },
          "metadata": {},
          "execution_count": 68
        }
      ]
    },
    {
      "cell_type": "code",
      "metadata": {
        "colab": {
          "base_uri": "https://localhost:8080/",
          "height": 293
        },
        "id": "WyLltJxC0rbf",
        "outputId": "9916f6f5-aafa-45ee-f144-8823d12390c3"
      },
      "source": [
        "pd.Series(feature_selector.feature_importances_, index=X.columns).nlargest(5).plot(kind='bar')"
      ],
      "execution_count": 69,
      "outputs": [
        {
          "output_type": "execute_result",
          "data": {
            "text/plain": [
              "<matplotlib.axes._subplots.AxesSubplot at 0x7f827a3a9590>"
            ]
          },
          "metadata": {},
          "execution_count": 69
        },
        {
          "output_type": "display_data",
          "data": {
            "image/png": "[encoded data removed]",
            "text/plain": [
              "<Figure size 432x288 with 1 Axes>"
            ]
          },
          "metadata": {
            "needs_background": "light"
          }
        }
      ]
    },
    {
      "cell_type": "code",
      "metadata": {
        "colab": {
          "base_uri": "https://localhost:8080/",
          "height": 359
        },
        "id": "pGSc4rwG0vKv",
        "outputId": "61f9710d-0d5b-43b9-d87c-5636f1870546"
      },
      "source": [
        "sns.distplot(y)"
      ],
      "execution_count": 70,
      "outputs": [
        {
          "output_type": "stream",
          "name": "stderr",
          "text": [
            "/usr/local/lib/python3.7/dist-packages/seaborn/distributions.py:2619: FutureWarning: `distplot` is a deprecated function and will be removed in a future version. Please adapt your code to use either `displot` (a figure-level function with similar flexibility) or `histplot` (an axes-level function for histograms).\n",
            "  warnings.warn(msg, FutureWarning)\n"
          ]
        },
        {
          "output_type": "execute_result",
          "data": {
            "text/plain": [
              "<matplotlib.axes._subplots.AxesSubplot at 0x7f827a32ca50>"
            ]
          },
          "metadata": {},
          "execution_count": 70
        },
        {
          "output_type": "display_data",
          "data": {
            "image/png": "[encoded data removed]",
            "text/plain": [
              "<Figure size 432x288 with 1 Axes>"
            ]
          },
          "metadata": {
            "needs_background": "light"
          }
        }
      ]
    },
    {
      "cell_type": "code",
      "metadata": {
        "id": "m-I556bO00Id"
      },
      "source": [
        "combined_data.to_csv('data/combined_data/cleaned_data.csv', index=None)"
      ],
      "execution_count": 72,
      "outputs": []
    }
  ]
}